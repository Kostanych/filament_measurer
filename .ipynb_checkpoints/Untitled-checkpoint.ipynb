{
 "cells": [
  {
   "cell_type": "markdown",
   "id": "88ce0aab-d78c-4bd5-9ad5-06aac40d5452",
   "metadata": {},
   "source": [
    "# Imports"
   ]
  },
  {
   "cell_type": "code",
   "execution_count": 3,
   "id": "6d6c6dc1-2e18-4247-9e3a-52e27d31ba10",
   "metadata": {},
   "outputs": [],
   "source": [
    "import argparse\n",
    "import sys\n",
    "\n",
    "import cv2\n",
    "import numpy as np\n",
    "import pandas as pd\n",
    "from matplotlib import pyplot as plt\n",
    "\n",
    "from utils import functions\n",
    "\n",
    "parser = argparse.ArgumentParser()\n",
    "parser.add_argument(\"data_path\", type=str, default=\"C:\\\\Users\\\\KOS\\\\Documents\\\\dev\\\\popeyed_rod_measurer\\\\data\\\\\", nargs='?',\n",
    "                    help=\"Name of the folder with the data\")\n",
    "\n",
    "try:\n",
    "    opt = parser.parse_known_args()[0]\n",
    "except Exception as e:\n",
    "    print(repr(e))\n",
    "    parser.print_help()\n",
    "    sys.exit(0)\n",
    "\n",
    "data_path = opt.data_path\n"
   ]
  },
  {
   "cell_type": "markdown",
   "id": "00bf17f5-a535-4b95-94e0-1be08234b62a",
   "metadata": {},
   "source": [
    "# Funcs"
   ]
  },
  {
   "cell_type": "code",
   "execution_count": 4,
   "id": "ce018992-6507-46e5-b2ed-e77a2e74da14",
   "metadata": {},
   "outputs": [],
   "source": [
    "def load_image_into_numpy_array(path):\n",
    "    \"\"\"Load an image from file into a numpy array.\n",
    "\n",
    "    Puts image into numpy array to feed into tensorflow graph.\n",
    "    Note that by convention we put it into a numpy array with shape\n",
    "    (height, width, channels), where channels=3 for RGB.\n",
    "\n",
    "    Args:\n",
    "      path: the file path to the image\n",
    "\n",
    "    Returns:\n",
    "      uint8 numpy array with shape (img_height, img_width, 3)\n",
    "    \"\"\"\n",
    "    return np.array(cv2.imread(path))\n"
   ]
  },
  {
   "cell_type": "code",
   "execution_count": 5,
   "id": "9fbcd834-00ff-4be8-b259-506c05946878",
   "metadata": {},
   "outputs": [],
   "source": [
    "def nothing(args): pass\n",
    "def krutilki(filepath):\n",
    "    # создаем окно для отображения результата и бегунки\n",
    "    cv2.namedWindow(\"setup\")\n",
    "    cv2.createTrackbar(\"b1\", \"setup\", 0, 255, nothing)\n",
    "    cv2.createTrackbar(\"g1\", \"setup\", 0, 255, nothing)\n",
    "    cv2.createTrackbar(\"r1\", \"setup\", 0, 255, nothing)\n",
    "    cv2.createTrackbar(\"b2\", \"setup\", 255, 255, nothing)\n",
    "    cv2.createTrackbar(\"g2\", \"setup\", 255, 255, nothing)\n",
    "    cv2.createTrackbar(\"r2\", \"setup\", 255, 255, nothing)\n",
    "\n",
    "    img = cv2.imread(filepath)  # загрузка изображения\n",
    "\n",
    "    while True:\n",
    "        r1 = cv2.getTrackbarPos('r1', 'setup')\n",
    "        g1 = cv2.getTrackbarPos('g1', 'setup')\n",
    "        b1 = cv2.getTrackbarPos('b1', 'setup')\n",
    "        r2 = cv2.getTrackbarPos('r2', 'setup')\n",
    "        g2 = cv2.getTrackbarPos('g2', 'setup')\n",
    "        b2 = cv2.getTrackbarPos('b2', 'setup')\n",
    "        # собираем значения из бегунков в множества\n",
    "        min_p = (g1, b1, r1)\n",
    "        max_p = (g2, b2, r2)\n",
    "        # применяем фильтр, делаем бинаризацию\n",
    "        img_g = cv2.inRange(img, min_p, max_p)\n",
    "\n",
    "        cv2.imshow('img', img_g)\n",
    "\n",
    "        if cv2.waitKey(33) & 0xFF == ord('q'):\n",
    "            break\n",
    "\n",
    "    cv2.destroyAllWindows()\n",
    "\n",
    "def krutilki_grayscale(filepath):\n",
    "    cv2.namedWindow(\"setup\")\n",
    "    cv2.createTrackbar(\"g1\", \"setup\", 0, 255, nothing)\n",
    "    cv2.createTrackbar(\"g2\", \"setup\", 0, 255, nothing)\n",
    "\n",
    "    img = cv2.imread(filepath)  # загрузка изображения\n",
    "\n",
    "    while True:\n",
    "        g1 = cv2.getTrackbarPos('g1', 'setup')\n",
    "        g2 = cv2.getTrackbarPos('g2', 'setup')\n",
    "\n",
    "        # собираем значения из бегунков в множества\n",
    "        min_p = (g1)\n",
    "        max_p = (g2)\n",
    "        # применяем фильтр, делаем бинаризацию\n",
    "        img_g = cv2.inRange(img, min_p, max_p)\n",
    "\n",
    "        cv2.imshow('img', img_g)\n",
    "\n",
    "        if cv2.waitKey(33) & 0xFF == ord('q'):\n",
    "            break\n",
    "    cv2.destroyAllWindows()"
   ]
  },
  {
   "cell_type": "code",
   "execution_count": 39,
   "id": "d940ff03-6ca8-4471-888b-a1c173691129",
   "metadata": {},
   "outputs": [],
   "source": [
    "def process_mask(img:np.array):\n",
    "    processed = img.T\n",
    "    for i,row in enumerate(processed):\n",
    "        processed[i] = process_column(pd.Series(row))\n",
    "    return processed.T\n",
    "\n",
    "def process_column(row_orig:pd.Series, threshhold=5):\n",
    "    row = row_orig.copy()\n",
    "    row_numered = row.ne(row.shift()).cumsum()\n",
    "    row_base = (row_numered.value_counts(normalize=False).rename('c').to_frame())\n",
    "    \n",
    "    # find correct and wrong '0'\n",
    "    row_0 = row_base[(row_base.index % 2 != 0) & (row_base.c>2)]\n",
    "    row_0 = row_0.index\n",
    "    wr_0 = row_base[(row_base.c<=threshhold)&(row_base.index % 2 != 0)]\n",
    "    wr_0 = wr_0.index\n",
    "\n",
    "    # find correct and wrong \"1\"\n",
    "    row_1 = row_base[(row_base.index % 2 == 0) & (row_base.c>2)]\n",
    "    row_1 = row_1.index\n",
    "    wr_1 = row_base[(row_base.c<=threshhold)&(row_base.index % 2 == 0)]\n",
    "    wr_1 = wr_1.index\n",
    "    \n",
    "    # get true '1' and true '0' pixels\n",
    "    row_0 = row_0.append(wr_1)\n",
    "    row_1 = row_1.append(wr_0)\n",
    "\n",
    "    # clear row of wrong pixels\n",
    "    row_numered = row_numered.isin(row_1)\n",
    "    row_numered = row_numered.astype(int).replace(1,255)\n",
    "\n",
    "    return row_numered"
   ]
  },
  {
   "cell_type": "markdown",
   "id": "8a018ae0-3e34-45d8-97e0-fa42defc0382",
   "metadata": {},
   "source": [
    "# Experiments"
   ]
  },
  {
   "cell_type": "code",
   "execution_count": 40,
   "id": "27833968-1c00-4570-82e1-724475c49897",
   "metadata": {},
   "outputs": [
    {
     "name": "stdout",
     "output_type": "stream",
     "text": [
      "Start to prosess mask\n",
      "Complete!\n",
      "Done\n"
     ]
    }
   ],
   "source": [
    "\n",
    "def process_image(image='photo_1.jpg', color=True):\n",
    "#     while True:\n",
    "#         full_path = \"C:\\\\Users\\\\KOS\\\\Documents\\\\dev\\\\popeyed_rod_measurer\\\\data\\\\input\\\\photo_1.jpg\"\n",
    "#         # print('Running inference for {}... '.format(full_path), end='')\n",
    "#         # _image = np.array(full_path).astype('float32')\n",
    "#         # image_new = cv2.resize(_image, interpolation=cv2.INTER_CUBIC)\n",
    "\n",
    "#         image_np = load_image_into_numpy_array(full_path)\n",
    "\n",
    "\n",
    "#         if color:\n",
    "#             image_np = cv2.cvtColor(image_np, cv2.COLOR_BGR2RGB)\n",
    "#             min_p = (0, 0, 0)\n",
    "#             max_p = (250, 250, 250)\n",
    "#             mask = cv2.inRange(image_np, min_p, max_p)\n",
    "#         else:\n",
    "#             image_np = cv2.cvtColor(image_np, cv2.IMREAD_GRAYSCALE)\n",
    "#             min_p = 0\n",
    "#             max_p = 250\n",
    "#             mask = cv2.inRange(image_np, min_p, max_p)\n",
    "        # image_np = image_np.astype(np.float32)\n",
    "        # print(image_np)\n",
    "\n",
    "        # image_np_with_detections = image_np.copy()\n",
    "\n",
    "        # #make mask(color)\n",
    "\n",
    "\n",
    "        # # make mask(grayscale)\n",
    "        # white = 255\n",
    "        # gray = 100\n",
    "        # # Finds dark pixels\n",
    "        # mask = cv2.inRange(image_grayscale, gray, white)\n",
    "\n",
    "        # plt.figure()\n",
    "        # cv2.imwrite(opt.data_path + 'output\\\\result.jpeg', image_np)\n",
    "        # cv2.imshow('Output', image_np)\n",
    "        # break\n",
    "        \n",
    "        # if cv2.waitKey(1) & 0xFF == ord('q'):\n",
    "        #     # cv2.imshow('Output', mask)\n",
    "        #     cv2.imshow('Output', image_np)\n",
    "        #     break\n",
    "        ########################\n",
    "        \n",
    "        \n",
    "        \n",
    "    full_path = \"C:\\\\Users\\\\KOS\\\\Documents\\\\dev\\\\popeyed_rod_measurer\\\\data\\\\input\\\\photo_1.jpg\"\n",
    "    # print('Running inference for {}... '.format(full_path), end='')\n",
    "    # _image = np.array(full_path).astype('float32')\n",
    "    # image_new = cv2.resize(_image, interpolation=cv2.INTER_CUBIC)\n",
    "\n",
    "    image_np = load_image_into_numpy_array(full_path)\n",
    "\n",
    "    if color:\n",
    "        image_np = cv2.cvtColor(image_np, cv2.COLOR_BGR2RGB)\n",
    "        min_p = (0, 0, 0)\n",
    "        max_p = (250, 250, 250)\n",
    "        mask = cv2.inRange(image_np, min_p, max_p)\n",
    "    else:\n",
    "        image_np = cv2.cvtColor(image_np, cv2.IMREAD_GRAYSCALE)\n",
    "        min_p = 0\n",
    "        max_p = 250\n",
    "        mask = cv2.inRange(image_np, min_p, max_p)\n",
    "        \n",
    "    cv2.imshow('mask', mask)\n",
    "    cv2.waitKey(0)\n",
    "    \n",
    "    cv2.imshow('image', image_np)\n",
    "    cv2.waitKey(0)\n",
    "    \n",
    "    print('Start to prosess mask')\n",
    "    mask_processed = process_mask(mask)\n",
    "    print('Complete!')\n",
    "    cv2.imshow('mask_processed', mask_processed)\n",
    "    cv2.waitKey(0)\n",
    "  \n",
    "    # closing all open windows\n",
    "    cv2.destroyAllWindows()\n",
    "    \n",
    "    # print(image_np.shape)\n",
    "    # print(mask.shape)\n",
    "    # print(mask_processed.shape)\n",
    "    \n",
    "    print('Done')\n",
    "    return mask_processed\n",
    "\n",
    "    \n",
    "\n",
    "\n",
    "mask = process_image()\n",
    "test = mask.T\n",
    "\n",
    "# display(pd.DataFrame(test))\n",
    "# for col in test[0]:\n",
    "#     field=[]\n",
    "#     # for row in col:\n",
    "#     print(col)"
   ]
  },
  {
   "cell_type": "code",
   "execution_count": 23,
   "id": "e86faae9-30b6-4ebb-99b3-f62ad58e1183",
   "metadata": {},
   "outputs": [
    {
     "data": {
      "text/plain": [
       "(720, 1280)"
      ]
     },
     "execution_count": 23,
     "metadata": {},
     "output_type": "execute_result"
    }
   ],
   "source": [
    "mask.shape"
   ]
  },
  {
   "cell_type": "code",
   "execution_count": 9,
   "id": "455887aa-8933-4345-8785-6386d37acd44",
   "metadata": {},
   "outputs": [
    {
     "data": {
      "text/plain": [
       "0       0\n",
       "1       0\n",
       "2       0\n",
       "3       0\n",
       "4       0\n",
       "       ..\n",
       "1275    0\n",
       "1276    0\n",
       "1277    0\n",
       "1278    0\n",
       "1279    0\n",
       "Name: 0, Length: 1280, dtype: uint8"
      ]
     },
     "execution_count": 9,
     "metadata": {},
     "output_type": "execute_result"
    }
   ],
   "source": [
    "df = pd.DataFrame(test)\n",
    "df[0]"
   ]
  },
  {
   "cell_type": "code",
   "execution_count": 169,
   "id": "a315a7c9-ecbb-4cd4-9eec-090e9c465f24",
   "metadata": {},
   "outputs": [
    {
     "data": {
      "text/plain": [
       "0     False\n",
       "1     False\n",
       "2     False\n",
       "3      True\n",
       "4      True\n",
       "5      True\n",
       "6      True\n",
       "7      True\n",
       "8      True\n",
       "9     False\n",
       "10    False\n",
       "11    False\n",
       "12    False\n",
       "Name: col, dtype: bool"
      ]
     },
     "execution_count": 169,
     "metadata": {},
     "output_type": "execute_result"
    }
   ],
   "source": [
    "\n",
    "tt = pd.DataFrame(t['col'].ne(t['col'].shift()).cumsum())\n",
    "(tt.col!=tt.col[0])&(tt.col!=tt.col[tt.shape[0]-1])"
   ]
  },
  {
   "cell_type": "code",
   "execution_count": 22,
   "id": "88299a34-1cdd-456f-98a9-06223e5c5d33",
   "metadata": {},
   "outputs": [
    {
     "data": {
      "text/plain": [
       "0     1\n",
       "1     1\n",
       "2     1\n",
       "3     1\n",
       "4     1\n",
       "5     2\n",
       "6     2\n",
       "7     2\n",
       "8     2\n",
       "9     3\n",
       "10    3\n",
       "11    4\n",
       "12    4\n",
       "13    4\n",
       "14    4\n",
       "15    4\n",
       "16    5\n",
       "17    5\n",
       "18    5\n",
       "19    6\n",
       "20    7\n",
       "21    7\n",
       "22    7\n",
       "23    7\n",
       "24    7\n",
       "25    7\n",
       "26    7\n",
       "27    7\n",
       "dtype: int32"
      ]
     },
     "execution_count": 22,
     "metadata": {},
     "output_type": "execute_result"
    }
   ],
   "source": [
    "row_orig = pd.Series([0,0,0,0,0,1,1,1,1,0,0,1,1,1,1,1,0,0,0,1,0,0,0,0,0,0,0,0])\n",
    "row_base = row_orig.ne(row_orig.shift()).cumsum()\n",
    "# (row.value_counts(normalize=True).to_frame()<0.1)\n",
    "\n",
    "# row = row.groupby((row == 1).cumsum()).cumcount(ascending=True)\n",
    "# row =  (row.value_counts(normalize=False).rename('c').to_frame())\n",
    "row_base"
   ]
  },
  {
   "cell_type": "code",
   "execution_count": 23,
   "id": "cfe73ab9-93e9-4273-98f0-399ffb4cee94",
   "metadata": {},
   "outputs": [],
   "source": [
    "row_base = (row_base.value_counts(normalize=False).rename('c').to_frame())\n",
    "row_0 = row_base[(row_base.index % 2 != 0) & (row_base.c>2)]\n",
    "row_0 = row_0.index\n",
    "wr_0 = row_base[(row_base.c<=2)&(row_base.index % 2 != 0)]\n",
    "wr_0 = wr_0.index"
   ]
  },
  {
   "cell_type": "code",
   "execution_count": 24,
   "id": "3e451d10-87fc-43fa-b212-25569369bf29",
   "metadata": {},
   "outputs": [],
   "source": [
    "# find wrong \"1\"\n",
    "row_1 = row_base[(row_base.index % 2 == 0) & (row_base.c>2)]\n",
    "row_1 = row_1.index\n",
    "wr_1 = row_base[(row_base.c<=2)&(row_base.index % 2 == 0)]\n",
    "wr_1 = wr_1.index"
   ]
  },
  {
   "cell_type": "code",
   "execution_count": 25,
   "id": "c1c4041f-4a07-4445-8f28-71c110a79a71",
   "metadata": {},
   "outputs": [
    {
     "name": "stdout",
     "output_type": "stream",
     "text": [
      "Int64Index([3], dtype='int64')\n",
      "Int64Index([6], dtype='int64')\n",
      "Int64Index([7, 1, 5], dtype='int64')\n",
      "Int64Index([4, 2], dtype='int64')\n"
     ]
    }
   ],
   "source": [
    "a = [wr_0, wr_1, row_0, row_1]\n",
    "for s in a:\n",
    "    print(s)"
   ]
  },
  {
   "cell_type": "code",
   "execution_count": 26,
   "id": "f1161a39-0b42-4957-a5b7-52d91380b8e5",
   "metadata": {},
   "outputs": [],
   "source": [
    "row_0 = row_0.append(wr_1)\n",
    "row_1 = row_1.append(wr_0)"
   ]
  },
  {
   "cell_type": "code",
   "execution_count": 27,
   "id": "84c13d7d-0d96-4e63-b751-51cd3f6b56eb",
   "metadata": {},
   "outputs": [
    {
     "name": "stdout",
     "output_type": "stream",
     "text": [
      "Int64Index([7, 1, 5, 6], dtype='int64')\n",
      "Int64Index([4, 2, 3], dtype='int64')\n"
     ]
    }
   ],
   "source": [
    "a = [row_0, row_1]\n",
    "for s in a:\n",
    "    print(s)"
   ]
  },
  {
   "cell_type": "code",
   "execution_count": 30,
   "id": "950a8156-6fb7-4b2b-a42d-727b5b481b90",
   "metadata": {},
   "outputs": [
    {
     "data": {
      "text/plain": [
       "0     0\n",
       "1     0\n",
       "2     0\n",
       "3     0\n",
       "4     0\n",
       "5     1\n",
       "6     1\n",
       "7     1\n",
       "8     1\n",
       "9     0\n",
       "10    0\n",
       "11    1\n",
       "12    1\n",
       "13    1\n",
       "14    1\n",
       "15    1\n",
       "16    0\n",
       "17    0\n",
       "18    0\n",
       "19    1\n",
       "20    0\n",
       "21    0\n",
       "22    0\n",
       "23    0\n",
       "24    0\n",
       "25    0\n",
       "26    0\n",
       "27    0\n",
       "dtype: int64"
      ]
     },
     "execution_count": 30,
     "metadata": {},
     "output_type": "execute_result"
    }
   ],
   "source": [
    "row_orig"
   ]
  },
  {
   "cell_type": "code",
   "execution_count": 39,
   "id": "21391a49-fc4e-468c-bbc8-9787e8e8f460",
   "metadata": {},
   "outputs": [
    {
     "data": {
      "text/plain": [
       "0      True\n",
       "1      True\n",
       "2      True\n",
       "3      True\n",
       "4      True\n",
       "5     False\n",
       "6     False\n",
       "7     False\n",
       "8     False\n",
       "9     False\n",
       "10    False\n",
       "11    False\n",
       "12    False\n",
       "13    False\n",
       "14    False\n",
       "15    False\n",
       "16     True\n",
       "17     True\n",
       "18     True\n",
       "19     True\n",
       "20     True\n",
       "21     True\n",
       "22     True\n",
       "23     True\n",
       "24     True\n",
       "25     True\n",
       "26     True\n",
       "27     True\n",
       "dtype: bool"
      ]
     },
     "execution_count": 39,
     "metadata": {},
     "output_type": "execute_result"
    }
   ],
   "source": [
    "row_numered = row_orig.ne(row_orig.shift()).cumsum()\n",
    "row_numered.isin(row_0)"
   ]
  },
  {
   "cell_type": "code",
   "execution_count": 43,
   "id": "88bcad56-4b8f-461e-aed1-3630e92432d5",
   "metadata": {},
   "outputs": [
    {
     "data": {
      "text/plain": [
       "0     255\n",
       "1     255\n",
       "2     255\n",
       "3     255\n",
       "4     255\n",
       "5       0\n",
       "6       0\n",
       "7       0\n",
       "8       0\n",
       "9       0\n",
       "10      0\n",
       "11      0\n",
       "12      0\n",
       "13      0\n",
       "14      0\n",
       "15      0\n",
       "16    255\n",
       "17    255\n",
       "18    255\n",
       "19    255\n",
       "20    255\n",
       "21    255\n",
       "22    255\n",
       "23    255\n",
       "24    255\n",
       "25    255\n",
       "26    255\n",
       "27    255\n",
       "dtype: int32"
      ]
     },
     "execution_count": 43,
     "metadata": {},
     "output_type": "execute_result"
    }
   ],
   "source": [
    "row_numered = row_orig.ne(row_orig.shift()).cumsum()\n",
    "row_numered = row_numered.isin(row_0)\n",
    "row_numered = row_numered.astype(int).replace(1,255)\n",
    "row_numered"
   ]
  },
  {
   "cell_type": "code",
   "execution_count": null,
   "id": "c99f7464-c291-44bc-9ded-9ce87bfd2ae1",
   "metadata": {},
   "outputs": [],
   "source": [
    "# (row!=row[0]) & (row!=row[row.shape[0]-1]) & (~row.isin(wr_1))# & (row==wr_0)"
   ]
  },
  {
   "cell_type": "code",
   "execution_count": null,
   "id": "1c881462-39e2-466c-ba16-486a2b8066c7",
   "metadata": {},
   "outputs": [],
   "source": [
    "# (row!=row[0]) & (row!=row[row.shape[0]-1])"
   ]
  },
  {
   "cell_type": "code",
   "execution_count": null,
   "id": "0fc2ba59-2bbd-4dcd-8a94-387b5ee35675",
   "metadata": {},
   "outputs": [
    {
     "data": {
      "text/plain": [
       "0     0\n",
       "1     1\n",
       "2     2\n",
       "3     3\n",
       "5     0\n",
       "6     0\n",
       "7     0\n",
       "8     0\n",
       "9     1\n",
       "10    2\n",
       "11    0\n",
       "12    0\n",
       "13    0\n",
       "14    0\n",
       "15    0\n",
       "16    1\n",
       "17    2\n",
       "18    0\n",
       "19    1\n",
       "20    2\n",
       "21    3\n",
       "dtype: int64"
      ]
     },
     "execution_count": 123,
     "metadata": {},
     "output_type": "execute_result"
    }
   ],
   "source": [
    "thresh = 3\n",
    "# row[(row>=thresh) | ((row.index>0)&(row.index<=thresh))]\n",
    "# row[(row<=thresh) | ((row.index>0)&(row.index<=thresh))]"
   ]
  },
  {
   "cell_type": "code",
   "execution_count": 17,
   "id": "39060860-8cfc-4944-9234-d4fa574d7a85",
   "metadata": {},
   "outputs": [
    {
     "data": {
      "text/plain": [
       "0     False\n",
       "1     False\n",
       "2     False\n",
       "3     False\n",
       "4     False\n",
       "5      True\n",
       "6      True\n",
       "7      True\n",
       "8      True\n",
       "9     False\n",
       "10    False\n",
       "11     True\n",
       "12     True\n",
       "13     True\n",
       "14     True\n",
       "15     True\n",
       "16    False\n",
       "17    False\n",
       "18    False\n",
       "19     True\n",
       "20    False\n",
       "21    False\n",
       "22    False\n",
       "23    False\n",
       "24    False\n",
       "25    False\n",
       "26    False\n",
       "27    False\n",
       "dtype: bool"
      ]
     },
     "execution_count": 17,
     "metadata": {},
     "output_type": "execute_result"
    }
   ],
   "source": [
    "row = (row!=row[0])&(row!=row[row.shape[0]-1])\n",
    "row\n",
    "# row.astype(int).replace(1,255)"
   ]
  },
  {
   "cell_type": "code",
   "execution_count": null,
   "id": "7a9278f2-cef2-4470-ab21-33e8f212488a",
   "metadata": {},
   "outputs": [],
   "source": []
  },
  {
   "cell_type": "code",
   "execution_count": 87,
   "id": "afca278f-1bb2-4bb6-bdc5-e4087aaa5731",
   "metadata": {},
   "outputs": [],
   "source": [
    "row_orig = pd.Series([0,0,0,0,0,1,1,1,1,0,0,1,1,1,1,1,0,0,0,1,0,0,0,0,0,0,0,0])\n",
    "row_orig2 = pd.Series([0,0,0,0,0,1,1,1,1,0,0,1,1,1,1,1,0,0,0,1,0,0,0,0,0,0,0,0])\n",
    "\n",
    "\n",
    "def process_image(img:np.array):\n",
    "    processed = img.copy()\n",
    "    for i,row in enumerate(processed):\n",
    "        processed[i] = process_column(pd.Series(row))\n",
    "    return processed\n",
    "\n",
    "def process_column(row_orig:pd.Series):\n",
    "    row = row_orig.copy()\n",
    "    row_numered = row.ne(row.shift()).cumsum()\n",
    "    row_base = (row_numered.value_counts(normalize=False).rename('c').to_frame())\n",
    "    \n",
    "    \n",
    "    \n",
    "    # find correct and wrong '0'\n",
    "    row_0 = row_base[(row_base.index % 2 != 0) & (row_base.c>2)]\n",
    "    row_0 = row_0.index\n",
    "    wr_0 = row_base[(row_base.c<=2)&(row_base.index % 2 != 0)]\n",
    "    wr_0 = wr_0.index\n",
    "\n",
    "    # find correct and wrong \"1\"\n",
    "    row_1 = row_base[(row_base.index % 2 == 0) & (row_base.c>2)]\n",
    "    row_1 = row_1.index\n",
    "    wr_1 = row_base[(row_base.c<=2)&(row_base.index % 2 == 0)]\n",
    "    wr_1 = wr_1.index\n",
    "    \n",
    "    # get true '1' and true '0' pixels\n",
    "    row_0 = row_0.append(wr_1)\n",
    "    row_1 = row_1.append(wr_0)\n",
    "\n",
    "    # clear row of wrong pixels\n",
    "    row_numered = row_numered.isin(row_0)\n",
    "    row_numered = row_numered.astype(int).replace(1,255)\n",
    "\n",
    "    return row_numered\n",
    "\n",
    "\n",
    "# process_column(row_orig)"
   ]
  },
  {
   "cell_type": "code",
   "execution_count": 88,
   "id": "40cdf7b5-9711-48de-9d5f-87bb49aa78f1",
   "metadata": {},
   "outputs": [
    {
     "name": "stdout",
     "output_type": "stream",
     "text": [
      "[255 255 255 255 255   0   0   0   0   0   0   0   0   0   0   0 255 255\n",
      " 255 255 255 255 255 255 255 255 255 255]\n",
      "[255 255 255 255   0   0   0   0   0   0   0   0   0   0   0   0 255 255\n",
      " 255 255 255 255 255 255 255 255 255 255]\n"
     ]
    },
    {
     "data": {
      "text/plain": [
       "array([[255, 255, 255, 255, 255,   0,   0,   0,   0,   0,   0,   0,   0,\n",
       "          0,   0,   0, 255, 255, 255, 255, 255, 255, 255, 255, 255, 255,\n",
       "        255, 255],\n",
       "       [255, 255, 255, 255,   0,   0,   0,   0,   0,   0,   0,   0,   0,\n",
       "          0,   0,   0, 255, 255, 255, 255, 255, 255, 255, 255, 255, 255,\n",
       "        255, 255]], dtype=int64)"
      ]
     },
     "execution_count": 88,
     "metadata": {},
     "output_type": "execute_result"
    }
   ],
   "source": [
    "row_orig = pd.Series([0,0,0,0,0,1,1,1,1,0,0,1,1,1,1,1,0,0,0,1,0,0,0,0,0,0,0,0])\n",
    "row_orig2 = pd.Series([0,0,0,1,0,1,1,1,1,0,0,1,1,1,1,1,0,0,0,1,0,0,0,0,0,0,0,0])\n",
    "\n",
    "im = np.array([row_orig,row_orig2])\n",
    "process_image(im)"
   ]
  },
  {
   "cell_type": "code",
   "execution_count": null,
   "id": "0827f140-a72a-476c-b38a-c67b9e59aaee",
   "metadata": {},
   "outputs": [],
   "source": []
  }
 ],
 "metadata": {
  "kernelspec": {
   "display_name": "Python 3 (ipykernel)",
   "language": "python",
   "name": "python3"
  },
  "language_info": {
   "codemirror_mode": {
    "name": "ipython",
    "version": 3
   },
   "file_extension": ".py",
   "mimetype": "text/x-python",
   "name": "python",
   "nbconvert_exporter": "python",
   "pygments_lexer": "ipython3",
   "version": "3.10.9"
  }
 },
 "nbformat": 4,
 "nbformat_minor": 5
}
